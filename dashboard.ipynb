{
 "cells": [
  {
   "cell_type": "code",
   "execution_count": 8,
   "id": "b1b48f87",
   "metadata": {},
   "outputs": [
    {
     "name": "stdout",
     "output_type": "stream",
     "text": [
      "c:\\Users\\H.P\\AppData\\Local\\Programs\\Python\\Python311\\python.exe\n"
     ]
    }
   ],
   "source": [
    "import sys\n",
    "print(sys.executable)"
   ]
  },
  {
   "cell_type": "code",
   "execution_count": 2,
   "id": "0ee721a0",
   "metadata": {},
   "outputs": [],
   "source": [
    "\n",
    "import pandas as pd\n",
    "import matplotlib.pyplot as plt\n",
    "import seaborn as sns\n",
    "import plotly.express as px\n",
    "from IPython.display import display, Markdown\n",
    "import ipywidgets as widgets\n",
    "from ipywidgets import interact\n",
    "\n",
    "\n",
    "\n"
   ]
  },
  {
   "cell_type": "code",
   "execution_count": 3,
   "id": "387697b8",
   "metadata": {},
   "outputs": [],
   "source": [
    "\n",
    "\n",
    "\n",
    "\n",
    "\n",
    "jobs = pd.read_csv(\"Jobs.csv\")\n",
    "skills = pd.read_csv(\"Skills.csv\")\n",
    "companies = pd.read_csv(\"CompanyHiring.csv\")\n",
    "\n",
    "# Clean GrowthRate\n",
    "jobs['GrowthRate'] = jobs['GrowthRate'].str.rstrip('%').astype(float)\n",
    "skills['GrowthRate'] = skills['GrowthRate'].str.rstrip('%').astype(float)\n",
    "\n",
    "# Split skills in companies\n",
    "companies = companies.assign(TopSkills=companies['TopSkills'].str.split(', ')).explode('TopSkills')\n",
    "\n",
    "\n"
   ]
  },
  {
   "cell_type": "code",
   "execution_count": 4,
   "id": "041cbffe",
   "metadata": {},
   "outputs": [],
   "source": [
    "\n",
    "\n",
    "\n",
    "\n",
    "\n",
    "industry_filter = widgets.Dropdown(\n",
    "    options=['All'] + sorted(companies['Industry'].dropna().unique().tolist()),\n",
    "    value='All',\n",
    "    description='Industry:'\n",
    ")\n",
    "\n",
    "location_filter = widgets.Dropdown(\n",
    "    options=['All'] + sorted(jobs['Location'].dropna().unique().tolist()),\n",
    "    value='All',\n",
    "    description='Location:'\n",
    ")\n",
    "\n",
    "skill_filter = widgets.Dropdown(\n",
    "    options=['All'] + sorted(skills['Category'].dropna().unique().tolist()),\n",
    "    value='All',\n",
    "    description='Skill Cat:'\n",
    ")\n",
    "\n",
    "\n"
   ]
  },
  {
   "cell_type": "code",
   "execution_count": 5,
   "id": "966b2283",
   "metadata": {},
   "outputs": [],
   "source": [
    "\n",
    "\n",
    "\n",
    "def update_dashboard(industry, location, skill_cat):\n",
    "    # Filter companies\n",
    "    comp_df = companies.copy()\n",
    "    if industry != 'All':\n",
    "        comp_df = comp_df[comp_df['Industry'] == industry]\n",
    "    \n",
    "    # Filter jobs\n",
    "    jobs_df = jobs.copy()\n",
    "    if location != 'All':\n",
    "        jobs_df = jobs_df[jobs_df['Location'] == location]\n",
    "    \n",
    "    # Filter skills\n",
    "    skills_df = skills.copy()\n",
    "    if skill_cat != 'All':\n",
    "        skills_df = skills_df[skills_df['Category'] == skill_cat]\n",
    "    \n",
    "    # --- KPIs ---\n",
    "    display(Markdown(\"## 🚀 Career Insights Dashboard (Interactive)\"))\n",
    "    if not jobs_df.empty:\n",
    "        top_job = jobs_df.loc[jobs_df['DemandScore'].idxmax()]\n",
    "        display(Markdown(f\"*Top Demand Job:* {top_job['JobTitle']} ({top_job['DemandScore']})\"))\n",
    "    if not skills_df.empty:\n",
    "        top_skill = skills_df.loc[skills_df['GrowthRate'].idxmax()]\n",
    "        display(Markdown(f\"*Highest Growth Skill:* {top_skill['SkillName']} ({top_skill['GrowthRate']}% growth)\"))\n",
    "    if not comp_df.empty:\n",
    "        top_company = comp_df.groupby('CompanyName')['JobsHired'].sum().idxmax()\n",
    "        display(Markdown(f\"*Top Hiring Company:* {top_company}\"))\n",
    "    \n",
    "    # --- Jobs Analysis ---\n",
    "    if not jobs_df.empty:\n",
    "        fig = px.bar(jobs_df.sort_values('DemandScore', ascending=False),\n",
    "                     x='DemandScore', y='JobTitle', color='DemandScore',\n",
    "                     title=\"Top Jobs by Demand Score\")\n",
    "        fig.show()\n",
    "        \n",
    "        fig = px.scatter(jobs_df, x=\"DemandScore\", y=\"GrowthRate\", color=\"Location\",\n",
    "                         size=\"DemandScore\", hover_data=[\"JobTitle\"],\n",
    "                         title=\"Job Demand vs Growth Rate by Location\")\n",
    "        fig.show()\n",
    "    \n",
    "    # --- Skills Analysis ---\n",
    "    if not skills_df.empty:\n",
    "        fig = px.treemap(skills_df, path=['Category','SkillName'], values='DemandScore',\n",
    "                         color='GrowthRate', color_continuous_scale='Blues',\n",
    "                         title=\"Skills Demand & Growth\")\n",
    "        fig.show()\n",
    "        \n",
    "        fig = px.scatter(skills_df, x=\"DemandScore\", y=\"GrowthRate\", text=\"SkillName\", size=\"DemandScore\",\n",
    "                         color=\"Category\", title=\"Skills: Demand vs Growth Rate\")\n",
    "        fig.update_traces(textposition='top center')\n",
    "        fig.show()\n",
    "    \n",
    "    # --- Company Analysis ---\n",
    "    if not comp_df.empty:\n",
    "        comp_summary = comp_df.groupby('CompanyName')['JobsHired'].sum().reset_index()\n",
    "        fig = px.bar(comp_summary.sort_values('JobsHired', ascending=False),\n",
    "                     x='CompanyName', y='JobsHired', color='JobsHired',\n",
    "                     title=\"Top Hiring Companies\")\n",
    "        fig.show()\n",
    "        \n",
    "        fig = px.scatter(comp_df, x=\"CompanyName\", y=\"TopSkills\", size=\"JobsHired\", color=\"Industry\",\n",
    "                         hover_data=['JobsHired'], title=\"Companies & Skills Hiring\")\n",
    "        fig.show()\n",
    "\n"
   ]
  },
  {
   "cell_type": "code",
   "execution_count": 6,
   "id": "743765af",
   "metadata": {},
   "outputs": [
    {
     "data": {
      "application/vnd.jupyter.widget-view+json": {
       "model_id": "fd5c7fd4eb00421b8d68cb1f374c90d6",
       "version_major": 2,
       "version_minor": 0
      },
      "text/plain": [
       "interactive(children=(Dropdown(description='Industry:', options=('All', 'Consulting', 'Healthcare', 'IT'), val…"
      ]
     },
     "metadata": {},
     "output_type": "display_data"
    },
    {
     "data": {
      "text/plain": [
       "<function __main__.update_dashboard(industry, location, skill_cat)>"
      ]
     },
     "execution_count": 6,
     "metadata": {},
     "output_type": "execute_result"
    }
   ],
   "source": [
    "\n",
    "\n",
    "\n",
    "interact(update_dashboard, industry=industry_filter, location=location_filter, skill_cat=skill_filter)"
   ]
  }
 ],
 "metadata": {
  "kernelspec": {
   "display_name": "Python 3",
   "language": "python",
   "name": "python3"
  },
  "language_info": {
   "codemirror_mode": {
    "name": "ipython",
    "version": 3
   },
   "file_extension": ".py",
   "mimetype": "text/x-python",
   "name": "python",
   "nbconvert_exporter": "python",
   "pygments_lexer": "ipython3",
   "version": "3.11.9"
  }
 },
 "nbformat": 4,
 "nbformat_minor": 5
}
